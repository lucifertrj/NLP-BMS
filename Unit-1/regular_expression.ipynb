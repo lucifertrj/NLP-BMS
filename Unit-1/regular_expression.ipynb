{
  "nbformat": 4,
  "nbformat_minor": 0,
  "metadata": {
    "colab": {
      "provenance": []
    },
    "kernelspec": {
      "name": "python3",
      "display_name": "Python 3"
    },
    "language_info": {
      "name": "python"
    }
  },
  "cells": [
    {
      "cell_type": "code",
      "execution_count": null,
      "metadata": {
        "id": "WmlGFC9t3VAZ"
      },
      "outputs": [],
      "source": [
        "import re"
      ]
    },
    {
      "cell_type": "markdown",
      "source": [
        "## BASIC SUBSTRING MATCHING"
      ],
      "metadata": {
        "id": "mUozqSBASw71"
      }
    },
    {
      "cell_type": "code",
      "source": [
        "text = \"My name is Tarun Jain and I work as a AI engineer.\"\n",
        "pattern = r\"Tarun\"\n",
        "result = re.search(pattern, text)"
      ],
      "metadata": {
        "id": "GhZNKqKwSz54"
      },
      "execution_count": null,
      "outputs": []
    },
    {
      "cell_type": "code",
      "source": [
        "result"
      ],
      "metadata": {
        "colab": {
          "base_uri": "https://localhost:8080/"
        },
        "id": "EJnaPkIl2R1d",
        "outputId": "7f4d76c3-7464-489f-fd38-8b3778847d47"
      },
      "execution_count": null,
      "outputs": [
        {
          "output_type": "execute_result",
          "data": {
            "text/plain": [
              "<re.Match object; span=(11, 16), match='Tarun'>"
            ]
          },
          "metadata": {},
          "execution_count": 65
        }
      ]
    },
    {
      "cell_type": "code",
      "source": [
        "result.group()"
      ],
      "metadata": {
        "colab": {
          "base_uri": "https://localhost:8080/",
          "height": 35
        },
        "id": "aNu53WCDS5a1",
        "outputId": "1675f758-2d4a-4909-a723-0aea6bd43c79"
      },
      "execution_count": null,
      "outputs": [
        {
          "output_type": "execute_result",
          "data": {
            "text/plain": [
              "'Tarun'"
            ],
            "application/vnd.google.colaboratory.intrinsic+json": {
              "type": "string"
            }
          },
          "metadata": {},
          "execution_count": 64
        }
      ]
    },
    {
      "cell_type": "code",
      "source": [
        "pattern = r\"software\"\n",
        "result = re.search(pattern, text)\n",
        "result"
      ],
      "metadata": {
        "id": "32HSSLxFS7qZ"
      },
      "execution_count": null,
      "outputs": []
    },
    {
      "cell_type": "code",
      "source": [
        "print(result)"
      ],
      "metadata": {
        "colab": {
          "base_uri": "https://localhost:8080/"
        },
        "id": "HNOPNaceS_Xd",
        "outputId": "b1d38f5e-0367-49ef-d78c-e2764578f9fc"
      },
      "execution_count": null,
      "outputs": [
        {
          "output_type": "stream",
          "name": "stdout",
          "text": [
            "None\n"
          ]
        }
      ]
    },
    {
      "cell_type": "markdown",
      "source": [
        "## Case Sensitivity and Case in-sensitivity"
      ],
      "metadata": {
        "id": "uYwYKW69UgVN"
      }
    },
    {
      "cell_type": "code",
      "source": [
        "text2 = \"Python is popular programming language\""
      ],
      "metadata": {
        "id": "aCax9U30Um4i"
      },
      "execution_count": null,
      "outputs": []
    },
    {
      "cell_type": "code",
      "source": [
        "pattern = \"Python\"\n",
        "result = re.search(pattern, text2)\n",
        "print(result.group())"
      ],
      "metadata": {
        "colab": {
          "base_uri": "https://localhost:8080/"
        },
        "id": "WenxRuzdUupd",
        "outputId": "5d94dcd5-4eaa-40a2-934f-16d86e1839a8"
      },
      "execution_count": null,
      "outputs": [
        {
          "output_type": "stream",
          "name": "stdout",
          "text": [
            "Python\n"
          ]
        }
      ]
    },
    {
      "cell_type": "code",
      "source": [
        "pattern = \"python\"\n",
        "result = re.search(pattern, text2)\n",
        "print(result.group()) # should give error as result is None"
      ],
      "metadata": {
        "colab": {
          "base_uri": "https://localhost:8080/",
          "height": 176
        },
        "id": "SsXvAJs8U7rA",
        "outputId": "85e8cc7a-c6f0-4214-8959-2e3c0db85e26"
      },
      "execution_count": null,
      "outputs": [
        {
          "output_type": "error",
          "ename": "AttributeError",
          "evalue": "'NoneType' object has no attribute 'group'",
          "traceback": [
            "\u001b[0;31m---------------------------------------------------------------------------\u001b[0m",
            "\u001b[0;31mAttributeError\u001b[0m                            Traceback (most recent call last)",
            "\u001b[0;32m<ipython-input-8-56098d8cb20a>\u001b[0m in \u001b[0;36m<cell line: 0>\u001b[0;34m()\u001b[0m\n\u001b[1;32m      1\u001b[0m \u001b[0mpattern\u001b[0m \u001b[0;34m=\u001b[0m \u001b[0;34m\"python\"\u001b[0m\u001b[0;34m\u001b[0m\u001b[0;34m\u001b[0m\u001b[0m\n\u001b[1;32m      2\u001b[0m \u001b[0mresult\u001b[0m \u001b[0;34m=\u001b[0m \u001b[0mre\u001b[0m\u001b[0;34m.\u001b[0m\u001b[0msearch\u001b[0m\u001b[0;34m(\u001b[0m\u001b[0mpattern\u001b[0m\u001b[0;34m,\u001b[0m \u001b[0mtext2\u001b[0m\u001b[0;34m)\u001b[0m\u001b[0;34m\u001b[0m\u001b[0;34m\u001b[0m\u001b[0m\n\u001b[0;32m----> 3\u001b[0;31m \u001b[0mprint\u001b[0m\u001b[0;34m(\u001b[0m\u001b[0mresult\u001b[0m\u001b[0;34m.\u001b[0m\u001b[0mgroup\u001b[0m\u001b[0;34m(\u001b[0m\u001b[0;34m)\u001b[0m\u001b[0;34m)\u001b[0m \u001b[0;31m# should give error as result is None\u001b[0m\u001b[0;34m\u001b[0m\u001b[0;34m\u001b[0m\u001b[0m\n\u001b[0m",
            "\u001b[0;31mAttributeError\u001b[0m: 'NoneType' object has no attribute 'group'"
          ]
        }
      ]
    },
    {
      "cell_type": "code",
      "source": [
        "# Case-insensitive matching\n",
        "pattern = r\"python\"\n",
        "result = re.search(pattern, text2, re.IGNORECASE)\n",
        "print(result.group())"
      ],
      "metadata": {
        "colab": {
          "base_uri": "https://localhost:8080/"
        },
        "id": "tsDoCwyPVDP5",
        "outputId": "f42fccf1-287e-4c50-b469-fc780cc75148"
      },
      "execution_count": null,
      "outputs": [
        {
          "output_type": "stream",
          "name": "stdout",
          "text": [
            "Python\n"
          ]
        }
      ]
    },
    {
      "cell_type": "code",
      "source": [
        "pattern = r\"[pP]ython\"\n",
        "result = re.findall(pattern, text2)\n",
        "print(result)"
      ],
      "metadata": {
        "colab": {
          "base_uri": "https://localhost:8080/"
        },
        "id": "2QAHHRKXWGng",
        "outputId": "0b215efd-1063-47ce-f624-7e82de76e00f"
      },
      "execution_count": null,
      "outputs": [
        {
          "output_type": "stream",
          "name": "stdout",
          "text": [
            "['Python']\n"
          ]
        }
      ]
    },
    {
      "cell_type": "markdown",
      "source": [
        "## Basic Regular Expression Pattern\n",
        "\n",
        "### Range"
      ],
      "metadata": {
        "id": "2oIz6aOoVIIR"
      }
    },
    {
      "cell_type": "code",
      "source": [
        "text3 = \"The pin is A123 and zip code is 90210.\""
      ],
      "metadata": {
        "id": "nqNt4he_VE5X"
      },
      "execution_count": null,
      "outputs": []
    },
    {
      "cell_type": "code",
      "source": [
        "pattern = r\"[A-Z]\"\n",
        "results = re.findall(pattern, text3)\n",
        "print(f\"Uppercase letters '[A-Z]': {results}\")"
      ],
      "metadata": {
        "colab": {
          "base_uri": "https://localhost:8080/"
        },
        "id": "xTWdasjpVPXW",
        "outputId": "8e39e73c-b59e-4252-80b3-57f185a3fcde"
      },
      "execution_count": null,
      "outputs": [
        {
          "output_type": "stream",
          "name": "stdout",
          "text": [
            "Uppercase letters '[A-Z]': ['T', 'A']\n"
          ]
        }
      ]
    },
    {
      "cell_type": "code",
      "source": [
        "pattern = r\"[a-z]\"\n",
        "results = re.findall(pattern, text3)\n",
        "print(f\"Lowercase letters '[a-z]': {results[:10]}...\")"
      ],
      "metadata": {
        "colab": {
          "base_uri": "https://localhost:8080/"
        },
        "id": "mEt9W7-5VWgy",
        "outputId": "2fd119dd-6d07-401d-f9af-40efb37224bf"
      },
      "execution_count": null,
      "outputs": [
        {
          "output_type": "stream",
          "name": "stdout",
          "text": [
            "Lowercase letters '[a-z]': ['h', 'e', 'p', 'i', 'n', 'i', 's', 'a', 'n', 'd']...\n"
          ]
        }
      ]
    },
    {
      "cell_type": "code",
      "source": [
        "pattern = r\"[0-9]\"\n",
        "results = re.findall(pattern, text3)\n",
        "print(f\"Digits '[0-9]': {results}\")"
      ],
      "metadata": {
        "id": "xiCbXku9Vczv",
        "outputId": "7f74c9b1-f2e4-4b9a-f439-3cb6591658cf",
        "colab": {
          "base_uri": "https://localhost:8080/"
        }
      },
      "execution_count": null,
      "outputs": [
        {
          "output_type": "stream",
          "name": "stdout",
          "text": [
            "Digits '[0-9]': ['1', '2', '3', '9', '0', '2', '1', '0']\n"
          ]
        }
      ]
    },
    {
      "cell_type": "code",
      "source": [
        "pattern = r\"[aeiou]\"\n",
        "results = re.findall(pattern, text3)\n",
        "print(f\"Vowels '[aeiou]': {results}\")"
      ],
      "metadata": {
        "colab": {
          "base_uri": "https://localhost:8080/"
        },
        "id": "UPyBhZXmW_46",
        "outputId": "201e650c-c0aa-4576-b8f4-f8f77361a32d"
      },
      "execution_count": null,
      "outputs": [
        {
          "output_type": "stream",
          "name": "stdout",
          "text": [
            "Vowels '[aeiou]': ['e', 'i', 'i', 'a', 'i', 'o', 'e', 'i']\n"
          ]
        }
      ]
    },
    {
      "cell_type": "markdown",
      "source": [
        "> \\w is equivalent to the character class [a-zA-Z0-9_]"
      ],
      "metadata": {
        "id": "Y3NR1YW9bBmb"
      }
    },
    {
      "cell_type": "markdown",
      "source": [
        "## Kleene\n",
        "\n",
        "- `*` Zero or more occurance\n",
        "- `+` One or more occurance"
      ],
      "metadata": {
        "id": "vVq_5XCIYl3j"
      }
    },
    {
      "cell_type": "code",
      "source": [
        "sentence = \"Contact us at info@example.com or @twitter.com\""
      ],
      "metadata": {
        "id": "Efs5Zxx8aV18"
      },
      "execution_count": null,
      "outputs": []
    },
    {
      "cell_type": "code",
      "source": [
        "star = r\"\\w*@\\w+\\.\\w+\"\n",
        "results_star = re.findall(star, sentence)\n",
        "print(f\"With *: {results_star}\")"
      ],
      "metadata": {
        "colab": {
          "base_uri": "https://localhost:8080/"
        },
        "id": "yjRQbO5kabSJ",
        "outputId": "ca1d82cc-1912-4d6f-aac1-0e7a0b676109"
      },
      "execution_count": null,
      "outputs": [
        {
          "output_type": "stream",
          "name": "stdout",
          "text": [
            "With *: ['info@example.com', '@twitter.com']\n"
          ]
        }
      ]
    },
    {
      "cell_type": "code",
      "source": [
        "plus = r\"\\w+@\\w+\\.\\w+\"\n",
        "results_plus = re.findall(plus, sentence)\n",
        "print(f\"With +: {results_plus}\")"
      ],
      "metadata": {
        "colab": {
          "base_uri": "https://localhost:8080/"
        },
        "id": "n-RolhbXayCc",
        "outputId": "7e32080b-34aa-45ae-b8a6-754c971af31a"
      },
      "execution_count": null,
      "outputs": [
        {
          "output_type": "stream",
          "name": "stdout",
          "text": [
            "With +: ['info@example.com']\n"
          ]
        }
      ]
    },
    {
      "cell_type": "code",
      "source": [
        "text = \"I went to the store. I went tooo far. I need to go.\""
      ],
      "metadata": {
        "id": "3cu2hpijb5x9"
      },
      "execution_count": null,
      "outputs": []
    },
    {
      "cell_type": "code",
      "source": [
        "pattern = r\"to*\"\n",
        "results = re.findall(pattern, text)\n",
        "print(results)"
      ],
      "metadata": {
        "colab": {
          "base_uri": "https://localhost:8080/"
        },
        "id": "ILe5Rw5hbYT1",
        "outputId": "c55cd89f-3ca1-4889-fd29-6644fc787cc1"
      },
      "execution_count": null,
      "outputs": [
        {
          "output_type": "stream",
          "name": "stdout",
          "text": [
            "['t', 'to', 't', 'to', 't', 'tooo', 'to']\n"
          ]
        }
      ]
    },
    {
      "cell_type": "code",
      "source": [
        "text = \"ht hat haat haaaaat\"\n",
        "pattern = r\"ha*t\"\n",
        "results = re.findall(pattern, text)\n",
        "print(f\"'ha*t': {results}\")"
      ],
      "metadata": {
        "colab": {
          "base_uri": "https://localhost:8080/"
        },
        "id": "nGYkyiB0aGvv",
        "outputId": "9989d472-0796-4d4f-9e3d-6b697a857c71"
      },
      "execution_count": null,
      "outputs": [
        {
          "output_type": "stream",
          "name": "stdout",
          "text": [
            "'ha*t': ['ht', 'hat', 'haat', 'haaaaat']\n"
          ]
        }
      ]
    },
    {
      "cell_type": "code",
      "source": [
        "text = \"I went to the store. I went tooo far. I need to go.\"\n",
        "\n",
        "pattern = r\"to+\"\n",
        "results = re.findall(pattern, text)\n",
        "print(results)"
      ],
      "metadata": {
        "colab": {
          "base_uri": "https://localhost:8080/"
        },
        "id": "zWbtZtDKbucT",
        "outputId": "55726258-dc0d-48fa-f474-0c68a6e31a27"
      },
      "execution_count": null,
      "outputs": [
        {
          "output_type": "stream",
          "name": "stdout",
          "text": [
            "['to', 'to', 'tooo', 'to']\n"
          ]
        }
      ]
    },
    {
      "cell_type": "code",
      "source": [
        "text = \"I went to the store. I went tooo far. I need to go.\"\n",
        "\n",
        "pattern = r\"or+\"\n",
        "results = re.findall(pattern, text)\n",
        "print(results)"
      ],
      "metadata": {
        "colab": {
          "base_uri": "https://localhost:8080/"
        },
        "id": "9_ZtomLtcVj0",
        "outputId": "7cbd7c6f-7834-4bfb-ba15-d745f2ef9788"
      },
      "execution_count": null,
      "outputs": [
        {
          "output_type": "stream",
          "name": "stdout",
          "text": [
            "['or']\n"
          ]
        }
      ]
    },
    {
      "cell_type": "markdown",
      "source": [
        "# Caret\n",
        "\n",
        "## As Negation"
      ],
      "metadata": {
        "id": "-Jgu5MWVXGxo"
      }
    },
    {
      "cell_type": "code",
      "source": [
        "text = \"Budapest, Hungary’s capital, is 19th-century Chain Bridge connects the hilly Buda district with flat Pest.\"\n",
        "\n",
        "pattern = r\"[^A-Z]\"\n",
        "results = re.findall(pattern, text)\n",
        "print(\"\".join(results))"
      ],
      "metadata": {
        "colab": {
          "base_uri": "https://localhost:8080/"
        },
        "id": "2MjKZ-7rXL6w",
        "outputId": "3c87a2cf-105e-461b-831d-f86b17b3c9d9"
      },
      "execution_count": null,
      "outputs": [
        {
          "output_type": "stream",
          "name": "stdout",
          "text": [
            "udapest, ungary’s capital, is 19th-century hain ridge connects the hilly uda district with flat est.\n"
          ]
        }
      ]
    },
    {
      "cell_type": "code",
      "source": [
        "pattern = r\"[^0-9]\"\n",
        "results = re.findall(pattern, text)\n",
        "print(\"\".join(results))"
      ],
      "metadata": {
        "colab": {
          "base_uri": "https://localhost:8080/"
        },
        "id": "QAW87xIJXmO0",
        "outputId": "ae28fe83-6a84-4208-c76b-6b12bf3663d9"
      },
      "execution_count": null,
      "outputs": [
        {
          "output_type": "stream",
          "name": "stdout",
          "text": [
            "Budapest, Hungary’s capital, is th-century Chain Bridge connects the hilly Buda district with flat Pest.\n"
          ]
        }
      ]
    },
    {
      "cell_type": "markdown",
      "source": [
        "## As Anchor"
      ],
      "metadata": {
        "id": "6hOsABriX53l"
      }
    },
    {
      "cell_type": "code",
      "source": [
        "text = \"\"\"Hello world\n",
        "World hello\n",
        "123 Main Street\n",
        "Today is sunny\"\"\""
      ],
      "metadata": {
        "id": "UPmjfAoCYH9Z"
      },
      "execution_count": null,
      "outputs": []
    },
    {
      "cell_type": "code",
      "source": [
        "pattern = r\"^Hello\"\n",
        "results = re.findall(pattern, text, re.MULTILINE)\n",
        "print(results)"
      ],
      "metadata": {
        "colab": {
          "base_uri": "https://localhost:8080/"
        },
        "id": "quS4Gy4gYLCn",
        "outputId": "8088cbc8-332f-4655-886e-fcb244379688"
      },
      "execution_count": null,
      "outputs": [
        {
          "output_type": "stream",
          "name": "stdout",
          "text": [
            "['Hello']\n"
          ]
        }
      ]
    },
    {
      "cell_type": "code",
      "source": [
        "pattern = r\"^\\d{3}\"\n",
        "results = re.findall(pattern, text, re.MULTILINE)\n",
        "print(results)"
      ],
      "metadata": {
        "colab": {
          "base_uri": "https://localhost:8080/"
        },
        "id": "BBR0V3hwYNgK",
        "outputId": "59a1202d-0a5f-4449-f703-787bdaf49b17"
      },
      "execution_count": null,
      "outputs": [
        {
          "output_type": "stream",
          "name": "stdout",
          "text": [
            "['123']\n"
          ]
        }
      ]
    },
    {
      "cell_type": "code",
      "source": [
        "pattern = r\"^Today\"\n",
        "results = re.findall(pattern, text, re.MULTILINE)\n",
        "print(results)"
      ],
      "metadata": {
        "colab": {
          "base_uri": "https://localhost:8080/"
        },
        "id": "Qgx2k9GeYYd3",
        "outputId": "9e984031-10ef-48ff-b014-167789268982"
      },
      "execution_count": null,
      "outputs": [
        {
          "output_type": "stream",
          "name": "stdout",
          "text": [
            "['Today']\n"
          ]
        }
      ]
    },
    {
      "cell_type": "code",
      "source": [
        "pattern = r\"world$\"\n",
        "results = re.findall(pattern, text, re.MULTILINE)\n",
        "print(results)"
      ],
      "metadata": {
        "colab": {
          "base_uri": "https://localhost:8080/"
        },
        "id": "qCi0KckvYcmg",
        "outputId": "6283f330-89bd-4af4-c3a8-86abc9df0f83"
      },
      "execution_count": null,
      "outputs": [
        {
          "output_type": "stream",
          "name": "stdout",
          "text": [
            "['world']\n"
          ]
        }
      ]
    },
    {
      "cell_type": "code",
      "source": [
        "pattern = r\"Today$\"\n",
        "results = re.findall(pattern, text, re.MULTILINE)\n",
        "print(results)"
      ],
      "metadata": {
        "colab": {
          "base_uri": "https://localhost:8080/"
        },
        "id": "sfXXKMleYflK",
        "outputId": "0994f777-c535-463d-ec5d-5a339d5b6f1e"
      },
      "execution_count": null,
      "outputs": [
        {
          "output_type": "stream",
          "name": "stdout",
          "text": [
            "[]\n"
          ]
        }
      ]
    },
    {
      "cell_type": "markdown",
      "source": [
        "# Counters {}"
      ],
      "metadata": {
        "id": "U5YYgaa8Y51v"
      }
    },
    {
      "cell_type": "code",
      "source": [
        "text = \"Phone numbers: 123-4567, 1234-567, 12-34567, 1234567\"\n",
        "pattern = r\"\\b\\d{3}-\\d{4}\\b\""
      ],
      "metadata": {
        "id": "ETPTgcTIY75k"
      },
      "execution_count": null,
      "outputs": []
    },
    {
      "cell_type": "code",
      "source": [
        "results = re.findall(pattern, text)\n",
        "print(f\"Phone numbers in format XXX-XXXX: {results}\")"
      ],
      "metadata": {
        "colab": {
          "base_uri": "https://localhost:8080/"
        },
        "id": "qLAkASgcZC4m",
        "outputId": "8c400542-8cdb-4fbc-83f0-3ebf998bf81a"
      },
      "execution_count": null,
      "outputs": [
        {
          "output_type": "stream",
          "name": "stdout",
          "text": [
            "Phone numbers in format XXX-XXXX: ['123-4567']\n"
          ]
        }
      ]
    },
    {
      "cell_type": "code",
      "source": [
        "text = \"Passwords: a, ab, abc, abcd, abcde, abcdef\"\n",
        "pattern = r\"\\b[a-z]{4,6}\\b\"\n",
        "results = re.findall(pattern, text)\n",
        "print(f\"Passwords with 4-6 characters: {results}\")"
      ],
      "metadata": {
        "colab": {
          "base_uri": "https://localhost:8080/"
        },
        "id": "cKtLCCOCY5Fw",
        "outputId": "95255964-0cdb-4ea7-9e40-127f1e3cb29f"
      },
      "execution_count": null,
      "outputs": [
        {
          "output_type": "stream",
          "name": "stdout",
          "text": [
            "Passwords with 4-6 characters: ['abcd', 'abcde', 'abcdef']\n"
          ]
        }
      ]
    },
    {
      "cell_type": "markdown",
      "source": [
        "# Question Mark"
      ],
      "metadata": {
        "id": "0me5IcY7ZOBe"
      }
    },
    {
      "cell_type": "code",
      "source": [
        "text = \"color colour flavor flavour\"\n",
        "\n",
        "pattern = r\"colou?r\"\n",
        "results = re.findall(pattern, text)\n",
        "print(results)"
      ],
      "metadata": {
        "colab": {
          "base_uri": "https://localhost:8080/"
        },
        "id": "GVka3DAjZPcP",
        "outputId": "bd2f9ebc-258b-40ce-c18e-39d66a7dc79b"
      },
      "execution_count": null,
      "outputs": [
        {
          "output_type": "stream",
          "name": "stdout",
          "text": [
            "['color', 'colour']\n"
          ]
        }
      ]
    },
    {
      "cell_type": "code",
      "source": [
        "pattern = r\"flavou?r\"\n",
        "results = re.findall(pattern, text)\n",
        "print(results)"
      ],
      "metadata": {
        "colab": {
          "base_uri": "https://localhost:8080/"
        },
        "id": "UMmC76ftmLth",
        "outputId": "dd324397-2718-4235-9c0a-e7f0738e20af"
      },
      "execution_count": null,
      "outputs": [
        {
          "output_type": "stream",
          "name": "stdout",
          "text": [
            "['flavor', 'flavour']\n"
          ]
        }
      ]
    },
    {
      "cell_type": "markdown",
      "source": [
        "## More operators - Shortcut"
      ],
      "metadata": {
        "id": "qsVMNKfloAU1"
      }
    },
    {
      "cell_type": "code",
      "source": [
        "text = \"Phone: 123-456-7890 Email: user@example.com\""
      ],
      "metadata": {
        "id": "czZipGfISu-q"
      },
      "execution_count": null,
      "outputs": []
    },
    {
      "cell_type": "code",
      "source": [
        "pattern = r\"\\d\"\n",
        "results = re.findall(pattern, text)\n",
        "print(f\"'\\\\d' (digits): {results}\")  # All digits\n",
        "\n",
        "pattern = r\"\\D\"\n",
        "results = re.findall(pattern, text[:20])\n",
        "print(f\"'\\\\D' (non-digits) first 20 chars: {results}\")  # Non-digits in first 20 chars"
      ],
      "metadata": {
        "colab": {
          "base_uri": "https://localhost:8080/"
        },
        "id": "b0YRg_WnnwxM",
        "outputId": "d8ee112f-88b3-48eb-d776-27b1a974c696"
      },
      "execution_count": null,
      "outputs": [
        {
          "output_type": "stream",
          "name": "stdout",
          "text": [
            "'\\d' (digits): ['1', '2', '3', '4', '5', '6', '7', '8', '9', '0']\n",
            "'\\D' (non-digits) first 20 chars: ['P', 'h', 'o', 'n', 'e', ':', ' ', '-', '-', ' ']\n"
          ]
        }
      ]
    },
    {
      "cell_type": "code",
      "source": [
        "pattern = r\"\\w+\"\n",
        "results = re.findall(pattern, text)\n",
        "print(f\"'\\\\w+' (words): {results}\")  # All words\n",
        "\n",
        "pattern = r\"\\W\"\n",
        "results = re.findall(pattern, text)\n",
        "print(f\"'\\\\W' (non-word chars): {results}\")  # Non-word characters"
      ],
      "metadata": {
        "colab": {
          "base_uri": "https://localhost:8080/"
        },
        "id": "SEO3lP4Hn4gA",
        "outputId": "c4d9e688-2486-490a-c97b-297065364af1"
      },
      "execution_count": null,
      "outputs": [
        {
          "output_type": "stream",
          "name": "stdout",
          "text": [
            "'\\w+' (words): ['Phone', '123', '456', '7890', 'Email', 'user', 'example', 'com']\n",
            "'\\W' (non-word chars): [':', ' ', '-', '-', ' ', ':', ' ', '@', '.']\n"
          ]
        }
      ]
    },
    {
      "cell_type": "code",
      "source": [
        "pattern = r\"\\s\"\n",
        "results = re.findall(pattern, text)\n",
        "print(f\"'\\\\s' (whitespace): {' '.join(['space' for _ in results])}\")  # Spaces\n",
        "\n",
        "pattern = r\"\\S\"\n",
        "results = re.findall(pattern, text)\n",
        "print(''.join(results))  # Non Spaces"
      ],
      "metadata": {
        "colab": {
          "base_uri": "https://localhost:8080/"
        },
        "id": "-BnJ59Aen8Dv",
        "outputId": "e8b5ee33-e524-47b2-98d4-88895d8047ef"
      },
      "execution_count": null,
      "outputs": [
        {
          "output_type": "stream",
          "name": "stdout",
          "text": [
            "'\\s' (whitespace): space space space\n",
            "Phone:123-456-7890Email:user@example.com\n"
          ]
        }
      ]
    },
    {
      "cell_type": "markdown",
      "source": [
        "# Grouping and Alternatives"
      ],
      "metadata": {
        "id": "ZMAtTGWsQE2-"
      }
    },
    {
      "cell_type": "markdown",
      "source": [
        "Suppose we need to search for texts about pets; perhaps we are particularly interested in cats and dogs. In such a case, we might want to search for either the string cat or the string dog. Since we can’t use the square brackets to search for “cat or dog” (why can’t we say /[catdog]/?), we need a new operator, the `disjunction operator`, also called the `pipe symbol` `|`. The pattern /cat|dog/ matches either the string cat or the string dog."
      ],
      "metadata": {
        "id": "80SzC_FqQQxh"
      }
    },
    {
      "cell_type": "code",
      "source": [
        "text = \"I like cats and dogs, but not rats. Rat is small\"\n",
        "\n",
        "pattern = r\"(cat|dog|rat)s\"\n",
        "results = re.findall(pattern, text)\n",
        "print(f\"'(cat|dog|rat)s' (alternatives): {results}\")"
      ],
      "metadata": {
        "colab": {
          "base_uri": "https://localhost:8080/"
        },
        "id": "EJq_YPaFofoV",
        "outputId": "5b62d6be-01e5-4c44-fa20-1ec0f548e86d"
      },
      "execution_count": null,
      "outputs": [
        {
          "output_type": "stream",
          "name": "stdout",
          "text": [
            "'(cat|dog|rat)s' (alternatives): ['cat', 'dog', 'rat']\n"
          ]
        }
      ]
    },
    {
      "cell_type": "markdown",
      "source": [
        "> Tip, you can treat `|` as OR operation in regular expression"
      ],
      "metadata": {
        "id": "3o75mMVGWLnl"
      }
    },
    {
      "cell_type": "code",
      "source": [
        "text = \"apple juice, orange juice, apple pie, orange cake\"\n",
        "pattern = r\"(apple|orange) (juice|pie|cake)\"\n",
        "results = re.findall(pattern, text)\n",
        "print(results)"
      ],
      "metadata": {
        "colab": {
          "base_uri": "https://localhost:8080/"
        },
        "id": "Sh7dT6nJQhwa",
        "outputId": "826f6eb9-e265-4fce-b53f-b7d97e7af6e4"
      },
      "execution_count": null,
      "outputs": [
        {
          "output_type": "stream",
          "name": "stdout",
          "text": [
            "[('apple', 'juice'), ('orange', 'juice'), ('apple', 'pie'), ('orange', 'cake')]\n"
          ]
        }
      ]
    },
    {
      "cell_type": "markdown",
      "source": [
        "## Substitution"
      ],
      "metadata": {
        "id": "0P-DMPg-RkFz"
      }
    },
    {
      "cell_type": "code",
      "source": [
        "text = \"Phone: 123-456-7890. Feel free to reach out\"\n",
        "pattern = r\"\\d\"  # Match any digit\n",
        "replacement = \"X\"\n",
        "\n",
        "result = re.sub(pattern, replacement, text)\n",
        "print(result)"
      ],
      "metadata": {
        "colab": {
          "base_uri": "https://localhost:8080/"
        },
        "id": "xYC7RscTYJhh",
        "outputId": "d0adc29e-831a-41f1-8b86-4837b3f1aa0d"
      },
      "execution_count": null,
      "outputs": [
        {
          "output_type": "stream",
          "name": "stdout",
          "text": [
            "Phone: XXX-XXX-XXXX. Feel free to reach out\n"
          ]
        }
      ]
    },
    {
      "cell_type": "code",
      "source": [
        "text = \"Today is 12/25/2023\"\n",
        "pattern = r\"(\\d{2})/(\\d{2})/(\\d{4})\"  # Capture groups: month, day, year\n",
        "replacement = r\"\\3-\\1-\\2\"  # Swap month & day\n",
        "\n",
        "result = re.sub(pattern, replacement, text)\n",
        "print(result)"
      ],
      "metadata": {
        "colab": {
          "base_uri": "https://localhost:8080/"
        },
        "id": "GGkxCEo_Zh9O",
        "outputId": "63feb49d-322d-49a0-f797-1e3f83356d28"
      },
      "execution_count": null,
      "outputs": [
        {
          "output_type": "stream",
          "name": "stdout",
          "text": [
            "Today is 2023-12-25\n"
          ]
        }
      ]
    },
    {
      "cell_type": "markdown",
      "source": [
        "# Lookahead Assertions\n",
        "\n",
        "Lookaheads let you check if a pattern exists (or doesn’t exist) ahead in the text, without \"moving\" your current position.\n",
        "\n",
        "#### Positive Lookahead (?=pattern)\n",
        "\n",
        "\"Match only if the pattern is ahead.\"\n",
        "\n",
        "Example:\n",
        "\n",
        "- apple(?= pie) → Matches \"apple\" only if \"pie\" follows it.\n",
        "- Matches \"apple\" in \"apple pie\" ✅ but not in \"apple juice\" ❌.\n",
        "\n",
        "#### Negative Lookahead (?!pattern)\n",
        "\n",
        "\"Match only if the pattern is NOT ahead.\"\n",
        "\n",
        "- apple(?! pie) → Matches \"apple\" only if \"pie\" doesn’t follow.\n",
        "- Matches \"apple\" in \"apple juice\" ✅ but not in \"apple pie\" ❌.\n",
        "\n",
        "\n"
      ],
      "metadata": {
        "id": "CmbYPtrKoykr"
      }
    },
    {
      "cell_type": "code",
      "source": [
        "text = \"Singing loudly, dancing in the rain.\"\n",
        "pattern = r\"\\b\\w+ing(?=\\W)\"  # \\W = non-word character (space, punctuation, etc.)\n",
        "\n",
        "matches = re.findall(pattern, text)\n",
        "print(matches)"
      ],
      "metadata": {
        "colab": {
          "base_uri": "https://localhost:8080/"
        },
        "id": "ftoS3KKDvAGe",
        "outputId": "312191bf-c128-494b-8954-e9a28210ab7f"
      },
      "execution_count": null,
      "outputs": [
        {
          "output_type": "stream",
          "name": "stdout",
          "text": [
            "['Singing', 'dancing']\n"
          ]
        }
      ]
    },
    {
      "cell_type": "markdown",
      "source": [
        "\\b ensures we match whole words (not parts of words).\n",
        "\n",
        "\\w+ing matches words like \"singing\", \"dancing\".\n",
        "\n",
        "(?=\\W) checks that \"ing\" is followed by a non-word character (like space or comma).\n",
        "\n"
      ],
      "metadata": {
        "id": "tz0fgwlSvhcH"
      }
    },
    {
      "cell_type": "code",
      "source": [
        "text = \"20% discount, save 30 dollars, 100% free\"\n",
        "pattern = r\"\\b\\d+\\b(?!\\s*%)\"  # Match whole numbers not followed by %\n",
        "\n",
        "matches = re.findall(pattern, text)\n",
        "print(matches)"
      ],
      "metadata": {
        "colab": {
          "base_uri": "https://localhost:8080/"
        },
        "id": "WLLnWVXdvHSf",
        "outputId": "63b890cf-1e0d-4dee-c740-98b80df244b7"
      },
      "execution_count": null,
      "outputs": [
        {
          "output_type": "stream",
          "name": "stdout",
          "text": [
            "['30']\n"
          ]
        }
      ]
    },
    {
      "cell_type": "markdown",
      "source": [
        "(?!\\s*%): Negative lookahead that allows for optional whitespace before checking for %\n",
        "\n"
      ],
      "metadata": {
        "id": "9RU3CD2Avp3W"
      }
    },
    {
      "cell_type": "markdown",
      "source": [
        "## When to use it:\n",
        "\n",
        "- Validate patterns ahead (e.g., \"word must end with ing\").\n",
        "- Exclude special cases (e.g., \"numbers not followed by %\")."
      ],
      "metadata": {
        "id": "282y2-ZNcXBD"
      }
    },
    {
      "cell_type": "markdown",
      "source": [
        "## Complex and real time expressions"
      ],
      "metadata": {
        "id": "-LGq6ALQkijq"
      }
    },
    {
      "cell_type": "code",
      "source": [
        "text = \"prices: $50, €100, $75\"\n",
        "\n",
        "pattern = r\"\\w+(?=: \\$)\"\n",
        "results = re.findall(pattern, text)\n",
        "print(f\"'\\\\w+(?=: \\\\$)' (words before dollar sign): {results}\")"
      ],
      "metadata": {
        "colab": {
          "base_uri": "https://localhost:8080/"
        },
        "id": "THgHVaiZkmSW",
        "outputId": "a9179821-5677-4348-d96c-ef1f3d9d7914"
      },
      "execution_count": null,
      "outputs": [
        {
          "output_type": "stream",
          "name": "stdout",
          "text": [
            "'\\w+(?=: \\$)' (words before dollar sign): ['prices']\n"
          ]
        }
      ]
    },
    {
      "cell_type": "code",
      "source": [
        "pattern = r\"\\$\\d+(?![0-9])\"\n",
        "results = re.findall(pattern, text)\n",
        "print(results)"
      ],
      "metadata": {
        "colab": {
          "base_uri": "https://localhost:8080/"
        },
        "id": "hO_AJQEhktp_",
        "outputId": "297ec12b-4452-49ea-fb70-f0694fd085af"
      },
      "execution_count": null,
      "outputs": [
        {
          "output_type": "stream",
          "name": "stdout",
          "text": [
            "['$50', '$75']\n"
          ]
        }
      ]
    },
    {
      "cell_type": "code",
      "source": [
        "text = \"Sites: https://example.com, http://test.org, https://demo.net\"\n",
        "pattern = r\"https?://\\w+\\.\\w+(?!\\.org)\"\n",
        "results = re.findall(pattern, text)\n",
        "print(results)"
      ],
      "metadata": {
        "colab": {
          "base_uri": "https://localhost:8080/"
        },
        "id": "7F4J7qW8k0My",
        "outputId": "e4e63153-11b2-4956-eb03-846788581058"
      },
      "execution_count": null,
      "outputs": [
        {
          "output_type": "stream",
          "name": "stdout",
          "text": [
            "['https://example.com', 'http://test.org', 'https://demo.net']\n"
          ]
        }
      ]
    },
    {
      "cell_type": "code",
      "source": [
        "pattern = r'^[A-Za-z0-9._%+-]+@[A-Za-z0-9.-]+\\.[A-Z|a-z]{2,}'\n",
        "text = \"Some text here.\\nsupport@example.com is our email.\""
      ],
      "metadata": {
        "id": "MCHbOT16Pr1S"
      },
      "execution_count": null,
      "outputs": []
    },
    {
      "cell_type": "code",
      "source": [
        "response = re.findall(pattern, text, re.MULTILINE)"
      ],
      "metadata": {
        "id": "Pt7Aw05vP3Me"
      },
      "execution_count": null,
      "outputs": []
    },
    {
      "cell_type": "code",
      "source": [
        "response"
      ],
      "metadata": {
        "colab": {
          "base_uri": "https://localhost:8080/"
        },
        "id": "v7kcKzjmP6fy",
        "outputId": "d3cd7e48-f17e-45db-dbb0-ec6b212f6b21"
      },
      "execution_count": null,
      "outputs": [
        {
          "output_type": "execute_result",
          "data": {
            "text/plain": [
              "['support@example.com']"
            ]
          },
          "metadata": {},
          "execution_count": 6
        }
      ]
    }
  ]
}