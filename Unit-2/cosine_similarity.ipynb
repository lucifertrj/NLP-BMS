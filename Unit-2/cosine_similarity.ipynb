{
  "nbformat": 4,
  "nbformat_minor": 0,
  "metadata": {
    "colab": {
      "provenance": []
    },
    "kernelspec": {
      "name": "python3",
      "display_name": "Python 3"
    },
    "language_info": {
      "name": "python"
    }
  },
  "cells": [
    {
      "cell_type": "markdown",
      "source": [
        "## How it works?\n",
        "\n",
        "- Dot product\n",
        "- Magnitude - Vector length\n",
        "- Normalization: Cosine similarity"
      ],
      "metadata": {
        "id": "y9nXsmi1LPGu"
      }
    },
    {
      "cell_type": "markdown",
      "source": [
        "## From scratch"
      ],
      "metadata": {
        "id": "K4qhU8600Max"
      }
    },
    {
      "cell_type": "code",
      "source": [
        "import math"
      ],
      "metadata": {
        "id": "olRwDJpp0S00"
      },
      "execution_count": null,
      "outputs": []
    },
    {
      "cell_type": "code",
      "source": [
        "def cosine_similarity(v1, v2):\n",
        "    if len(v1) != len(v2):\n",
        "        raise ValueError(\"Vectors must have the same dimension\")\n",
        "\n",
        "    dot_product = sum(x * y for x, y in zip(v1, v2))\n",
        "\n",
        "    magnitude1 = math.sqrt(sum(x * x for x in v1))\n",
        "    magnitude2 = math.sqrt(sum(x * x for x in v2))\n",
        "\n",
        "    if magnitude1 == 0 or magnitude2 == 0:\n",
        "        return 0\n",
        "\n",
        "    return dot_product / (magnitude1 * magnitude2)"
      ],
      "metadata": {
        "id": "073p9Mxj0Rlg"
      },
      "execution_count": null,
      "outputs": []
    },
    {
      "cell_type": "code",
      "source": [
        "vector1 = [2, 5, 1]\n",
        "vector2 = [1, 4, 2]\n",
        "\n",
        "similarity = cosine_similarity(vector1, vector2)\n",
        "print(f\"Cosine similarity: {similarity:.4f}\")"
      ],
      "metadata": {
        "colab": {
          "base_uri": "https://localhost:8080/"
        },
        "id": "IQn59xAG0N0A",
        "outputId": "2b726912-f8e4-4677-97a7-3aa7da6529b7"
      },
      "execution_count": null,
      "outputs": [
        {
          "output_type": "stream",
          "name": "stdout",
          "text": [
            "Cosine similarity: 0.9562\n"
          ]
        }
      ]
    },
    {
      "cell_type": "code",
      "source": [
        "import numpy as np\n",
        "\n",
        "dot_product = sum(x * y for x, y in zip(vector1, vector2))"
      ],
      "metadata": {
        "id": "ubGwkp2KM15B"
      },
      "execution_count": null,
      "outputs": []
    },
    {
      "cell_type": "code",
      "source": [
        "math.sqrt(30)* math.sqrt(21)"
      ],
      "metadata": {
        "colab": {
          "base_uri": "https://localhost:8080/"
        },
        "id": "oGOKo6s2NEd4",
        "outputId": "6978a489-7d9d-4d77-8ae3-4cc69fc0c1d0"
      },
      "execution_count": null,
      "outputs": [
        {
          "output_type": "execute_result",
          "data": {
            "text/plain": [
              "25.099800796022265"
            ]
          },
          "metadata": {},
          "execution_count": 11
        }
      ]
    },
    {
      "cell_type": "code",
      "source": [
        "24/25.09"
      ],
      "metadata": {
        "colab": {
          "base_uri": "https://localhost:8080/"
        },
        "id": "D2GzxJ5cNRfw",
        "outputId": "11921374-a9fb-4598-efa2-b51c0b57deb1"
      },
      "execution_count": null,
      "outputs": [
        {
          "output_type": "execute_result",
          "data": {
            "text/plain": [
              "0.9565563969709048"
            ]
          },
          "metadata": {},
          "execution_count": 12
        }
      ]
    },
    {
      "cell_type": "markdown",
      "source": [
        "## Text data Example - Sklearn"
      ],
      "metadata": {
        "id": "pLgzi4uJ0byp"
      }
    },
    {
      "cell_type": "code",
      "source": [
        "from sklearn.feature_extraction.text import CountVectorizer\n",
        "from sklearn.metrics.pairwise import cosine_similarity as sklearn_cosine_similarity\n",
        "import numpy as np"
      ],
      "metadata": {
        "id": "L61ipHLK0gf7"
      },
      "execution_count": null,
      "outputs": []
    },
    {
      "cell_type": "code",
      "execution_count": null,
      "metadata": {
        "id": "cWFawlLozQkC"
      },
      "outputs": [],
      "source": [
        "docs = [\n",
        "    \"Python is a popular programming language for data science and machine learning.\",\n",
        "    \"Data scientists use Python libraries like NumPy, Pandas, and Scikit-learn.\",\n",
        "    \"JavaScript is essential for web development and creating interactive websites.\",\n",
        "    \"Natural language processing helps computers understand human language.\",\n",
        "    \"Deep learning models can process differnt data i.e., text, images, and audio data effectively.\"\n",
        "]"
      ]
    },
    {
      "cell_type": "code",
      "source": [
        "vectorizer = CountVectorizer()\n",
        "X = vectorizer.fit_transform(docs)"
      ],
      "metadata": {
        "id": "s8Al5CCA0tzc"
      },
      "execution_count": null,
      "outputs": []
    },
    {
      "cell_type": "code",
      "source": [
        "X.toarray()"
      ],
      "metadata": {
        "colab": {
          "base_uri": "https://localhost:8080/"
        },
        "id": "AGJNYbgR1OKO",
        "outputId": "c3f29d81-9117-4673-b6a1-6cc577f8fe02"
      },
      "execution_count": null,
      "outputs": [
        {
          "output_type": "execute_result",
          "data": {
            "text/plain": [
              "array([[1, 0, 0, 0, 0, 1, 0, 0, 0, 0, 0, 1, 0, 0, 0, 0, 1, 0, 1, 0, 1, 0,\n",
              "        0, 1, 0, 0, 0, 0, 1, 0, 0, 1, 1, 1, 0, 0, 0, 0, 0, 0, 0],\n",
              "       [1, 0, 0, 0, 0, 1, 0, 0, 0, 0, 0, 0, 0, 0, 0, 0, 0, 0, 0, 1, 0, 1,\n",
              "        1, 0, 0, 0, 1, 1, 0, 0, 0, 0, 1, 0, 1, 1, 0, 0, 1, 0, 0],\n",
              "       [1, 0, 0, 0, 1, 0, 0, 1, 0, 0, 1, 1, 0, 0, 0, 1, 1, 1, 0, 0, 0, 0,\n",
              "        0, 0, 0, 0, 0, 0, 0, 0, 0, 0, 0, 0, 0, 0, 0, 0, 0, 1, 1],\n",
              "       [0, 0, 0, 1, 0, 0, 0, 0, 0, 0, 0, 0, 1, 1, 0, 0, 0, 0, 2, 0, 0, 0,\n",
              "        0, 0, 0, 1, 0, 0, 0, 0, 1, 0, 0, 0, 0, 0, 0, 1, 0, 0, 0],\n",
              "       [1, 1, 1, 0, 0, 2, 1, 0, 1, 1, 0, 0, 0, 0, 1, 0, 0, 0, 0, 0, 1, 0,\n",
              "        0, 0, 1, 0, 0, 0, 0, 1, 0, 0, 0, 0, 0, 0, 1, 0, 0, 0, 0]])"
            ]
          },
          "metadata": {},
          "execution_count": 17
        }
      ]
    },
    {
      "cell_type": "code",
      "source": [
        "X.toarray().shape"
      ],
      "metadata": {
        "colab": {
          "base_uri": "https://localhost:8080/"
        },
        "id": "AvshRUJU2GZ2",
        "outputId": "a3bcc0cf-7cdc-482f-b07f-85cd82160237"
      },
      "execution_count": null,
      "outputs": [
        {
          "output_type": "execute_result",
          "data": {
            "text/plain": [
              "(5, 41)"
            ]
          },
          "metadata": {},
          "execution_count": 18
        }
      ]
    },
    {
      "cell_type": "code",
      "source": [
        "vectorizer.get_feature_names_out()"
      ],
      "metadata": {
        "colab": {
          "base_uri": "https://localhost:8080/"
        },
        "id": "YVkPvws3QcNQ",
        "outputId": "551de781-365a-4ebc-fb9b-9e75aee35fd1"
      },
      "execution_count": null,
      "outputs": [
        {
          "output_type": "execute_result",
          "data": {
            "text/plain": [
              "array(['and', 'audio', 'can', 'computers', 'creating', 'data', 'deep',\n",
              "       'development', 'differnt', 'effectively', 'essential', 'for',\n",
              "       'helps', 'human', 'images', 'interactive', 'is', 'javascript',\n",
              "       'language', 'learn', 'learning', 'libraries', 'like', 'machine',\n",
              "       'models', 'natural', 'numpy', 'pandas', 'popular', 'process',\n",
              "       'processing', 'programming', 'python', 'science', 'scientists',\n",
              "       'scikit', 'text', 'understand', 'use', 'web', 'websites'],\n",
              "      dtype=object)"
            ]
          },
          "metadata": {},
          "execution_count": 23
        }
      ]
    },
    {
      "cell_type": "code",
      "source": [
        "import pandas as pd"
      ],
      "metadata": {
        "id": "MVMUxEi411tY"
      },
      "execution_count": null,
      "outputs": []
    },
    {
      "cell_type": "code",
      "source": [
        "df = pd.DataFrame(X.toarray(), columns=vectorizer.get_feature_names_out())"
      ],
      "metadata": {
        "id": "Zukbmbut10e5"
      },
      "execution_count": null,
      "outputs": []
    },
    {
      "cell_type": "code",
      "source": [
        "df"
      ],
      "metadata": {
        "id": "VJcOMz6115rz"
      },
      "execution_count": null,
      "outputs": []
    },
    {
      "cell_type": "code",
      "source": [
        "similarity_matrix = sklearn_cosine_similarity(X)"
      ],
      "metadata": {
        "id": "mo0ymPyW1-TX"
      },
      "execution_count": null,
      "outputs": []
    },
    {
      "cell_type": "code",
      "source": [
        "similarity_matrix"
      ],
      "metadata": {
        "colab": {
          "base_uri": "https://localhost:8080/"
        },
        "id": "i0AIxuYW2Buo",
        "outputId": "c89f9647-e3af-418e-b4b7-25ce96a663ea"
      },
      "execution_count": null,
      "outputs": [
        {
          "output_type": "execute_result",
          "data": {
            "text/plain": [
              "array([[1.        , 0.27272727, 0.28603878, 0.19069252, 0.31139958],\n",
              "       [0.27272727, 1.        , 0.09534626, 0.        , 0.23354968],\n",
              "       [0.28603878, 0.09534626, 1.        , 0.        , 0.08164966],\n",
              "       [0.19069252, 0.        , 0.        , 1.        , 0.        ],\n",
              "       [0.31139958, 0.23354968, 0.08164966, 0.        , 1.        ]])"
            ]
          },
          "metadata": {},
          "execution_count": 25
        }
      ]
    },
    {
      "cell_type": "code",
      "source": [
        "similarity_matrix.shape"
      ],
      "metadata": {
        "colab": {
          "base_uri": "https://localhost:8080/"
        },
        "id": "qWIyWla12Drs",
        "outputId": "9da61b2d-5fa9-4260-dcbf-a2749a66f43b"
      },
      "execution_count": null,
      "outputs": [
        {
          "output_type": "execute_result",
          "data": {
            "text/plain": [
              "(5, 5)"
            ]
          },
          "metadata": {},
          "execution_count": 26
        }
      ]
    },
    {
      "cell_type": "code",
      "source": [
        "for i in range(len(docs)):\n",
        "    for j in range(i+1, len(docs)):\n",
        "        print(f\"Similarity between Doc {i+1} and Doc {j+1}: {similarity_matrix[i][j]:.4f}\")"
      ],
      "metadata": {
        "colab": {
          "base_uri": "https://localhost:8080/"
        },
        "id": "7L9SD8OP0jw4",
        "outputId": "4064aa96-dbfe-4ac5-d0ee-42d84523ec2f"
      },
      "execution_count": null,
      "outputs": [
        {
          "output_type": "stream",
          "name": "stdout",
          "text": [
            "Similarity between Doc 1 and Doc 2: 0.2727\n",
            "Similarity between Doc 1 and Doc 3: 0.2860\n",
            "Similarity between Doc 1 and Doc 4: 0.1907\n",
            "Similarity between Doc 1 and Doc 5: 0.3114\n",
            "Similarity between Doc 2 and Doc 3: 0.0953\n",
            "Similarity between Doc 2 and Doc 4: 0.0000\n",
            "Similarity between Doc 2 and Doc 5: 0.2335\n",
            "Similarity between Doc 3 and Doc 4: 0.0000\n",
            "Similarity between Doc 3 and Doc 5: 0.0816\n",
            "Similarity between Doc 4 and Doc 5: 0.0000\n"
          ]
        }
      ]
    }
  ]
}