{
  "nbformat": 4,
  "nbformat_minor": 0,
  "metadata": {
    "colab": {
      "provenance": []
    },
    "kernelspec": {
      "name": "python3",
      "display_name": "Python 3"
    },
    "language_info": {
      "name": "python"
    }
  },
  "cells": [
    {
      "cell_type": "code",
      "execution_count": null,
      "metadata": {
        "id": "8jUQ1833-spK"
      },
      "outputs": [],
      "source": [
        "import nltk\n",
        "from nltk.corpus import treebank\n",
        "from nltk.tag import hmm"
      ]
    },
    {
      "cell_type": "code",
      "source": [
        "nltk.download('treebank')"
      ],
      "metadata": {
        "id": "ZiRorBZI-5sE"
      },
      "execution_count": null,
      "outputs": []
    },
    {
      "cell_type": "code",
      "source": [
        "total_data = treebank.tagged_sents()"
      ],
      "metadata": {
        "id": "gPyFiIGp-4hm"
      },
      "execution_count": null,
      "outputs": []
    },
    {
      "cell_type": "code",
      "source": [
        "len(total_data)"
      ],
      "metadata": {
        "id": "fUPS5xUO_B1t"
      },
      "execution_count": null,
      "outputs": []
    },
    {
      "cell_type": "code",
      "source": [
        "total_data[:10]"
      ],
      "metadata": {
        "id": "quOamLTZ_Kv8",
        "collapsed": true
      },
      "execution_count": null,
      "outputs": []
    },
    {
      "cell_type": "code",
      "source": [
        "train_data = total_data[:3000]"
      ],
      "metadata": {
        "id": "o0Tw0DFj_n_Q"
      },
      "execution_count": null,
      "outputs": []
    },
    {
      "cell_type": "code",
      "source": [
        "trainer = hmm.HiddenMarkovModelTrainer()\n",
        "tagger = trainer.train(train_data)"
      ],
      "metadata": {
        "id": "UWnjf95z_Egt"
      },
      "execution_count": null,
      "outputs": []
    },
    {
      "cell_type": "code",
      "source": [
        "sentence = \"\"\"give me the bill\"\"\".split()"
      ],
      "metadata": {
        "id": "bypGkbds_S2_"
      },
      "execution_count": null,
      "outputs": []
    },
    {
      "cell_type": "code",
      "source": [
        "tagged_sentence = tagger.tag(sentence)"
      ],
      "metadata": {
        "id": "krXI8BxT_T7d"
      },
      "execution_count": null,
      "outputs": []
    },
    {
      "cell_type": "code",
      "source": [
        "print(tagged_sentence)"
      ],
      "metadata": {
        "colab": {
          "base_uri": "https://localhost:8080/"
        },
        "id": "3SmxVJlV_aun",
        "outputId": "310c7fef-cd64-4015-9cdd-0c2b1fc79ab7"
      },
      "execution_count": null,
      "outputs": [
        {
          "output_type": "stream",
          "name": "stdout",
          "text": [
            "[('give', 'VB'), ('me', 'PRP'), ('the', 'DT'), ('bill', 'NN')]\n"
          ]
        }
      ]
    },
    {
      "cell_type": "code",
      "source": [
        "test_data = treebank.tagged_sents()[3000:]"
      ],
      "metadata": {
        "id": "noS1fdKg_dLs"
      },
      "execution_count": null,
      "outputs": []
    },
    {
      "cell_type": "code",
      "source": [
        "accuracy = tagger.accuracy(test_data)"
      ],
      "metadata": {
        "id": "nUfW5Mp3_uhZ"
      },
      "execution_count": null,
      "outputs": []
    },
    {
      "cell_type": "code",
      "source": [
        "print(f\"Accuracy: {accuracy:.4f}\")"
      ],
      "metadata": {
        "colab": {
          "base_uri": "https://localhost:8080/"
        },
        "id": "T4AOMSYY_y-0",
        "outputId": "266a8316-9ac0-412f-e7a7-d691f991a245"
      },
      "execution_count": null,
      "outputs": [
        {
          "output_type": "stream",
          "name": "stdout",
          "text": [
            "Accuracy: 0.3684\n"
          ]
        }
      ]
    }
  ]
}