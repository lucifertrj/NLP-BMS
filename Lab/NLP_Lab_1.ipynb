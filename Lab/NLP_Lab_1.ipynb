{
  "nbformat": 4,
  "nbformat_minor": 0,
  "metadata": {
    "colab": {
      "provenance": []
    },
    "kernelspec": {
      "name": "python3",
      "display_name": "Python 3"
    },
    "language_info": {
      "name": "python"
    }
  },
  "cells": [
    {
      "cell_type": "code",
      "execution_count": null,
      "metadata": {
        "id": "NxKR8QpPj8xg"
      },
      "outputs": [],
      "source": [
        "import nltk\n",
        "from nltk.tokenize import word_tokenize, sent_tokenize\n",
        "from nltk.corpus import stopwords\n",
        "from nltk.stem import PorterStemmer, WordNetLemmatizer\n",
        "import string"
      ]
    },
    {
      "cell_type": "code",
      "source": [
        "nltk.download('punkt')\n",
        "nltk.download('stopwords')\n",
        "nltk.download('wordnet')\n",
        "nltk.download('punkt_tab')"
      ],
      "metadata": {
        "colab": {
          "base_uri": "https://localhost:8080/"
        },
        "id": "fiaaYA9xkMKZ",
        "outputId": "a7d46a96-f4f2-4e4d-e9b7-c28ecd920a11"
      },
      "execution_count": null,
      "outputs": [
        {
          "output_type": "stream",
          "name": "stderr",
          "text": [
            "[nltk_data] Downloading package punkt to /root/nltk_data...\n",
            "[nltk_data]   Package punkt is already up-to-date!\n",
            "[nltk_data] Downloading package stopwords to /root/nltk_data...\n",
            "[nltk_data]   Package stopwords is already up-to-date!\n",
            "[nltk_data] Downloading package wordnet to /root/nltk_data...\n",
            "[nltk_data]   Package wordnet is already up-to-date!\n",
            "[nltk_data] Downloading package punkt_tab to /root/nltk_data...\n",
            "[nltk_data]   Unzipping tokenizers/punkt_tab.zip.\n"
          ]
        },
        {
          "output_type": "execute_result",
          "data": {
            "text/plain": [
              "True"
            ]
          },
          "metadata": {},
          "execution_count": 5
        }
      ]
    },
    {
      "cell_type": "code",
      "source": [
        "text1 = \"Mumbai is the financial capital of India. It is known for Bollywood and its street food. I love going there\"\n",
        "text2 = \"The Taj Mahal is located in Agra. It was built by Emperor Shah Jahan in memory of his wife.\""
      ],
      "metadata": {
        "id": "EX8I3TWFkQ46"
      },
      "execution_count": null,
      "outputs": []
    },
    {
      "cell_type": "markdown",
      "source": [
        "# TOKENIZATION\n",
        "\n",
        "## SENTENCE TOKENIZATION:\n"
      ],
      "metadata": {
        "id": "yCucSGTMkXX6"
      }
    },
    {
      "cell_type": "code",
      "source": [
        "sentences1 = sent_tokenize(text1)\n",
        "sentences2 = sent_tokenize(text2)"
      ],
      "metadata": {
        "id": "SHYh6gYkkVV6"
      },
      "execution_count": null,
      "outputs": []
    },
    {
      "cell_type": "code",
      "source": [
        "sentences1"
      ],
      "metadata": {
        "colab": {
          "base_uri": "https://localhost:8080/"
        },
        "id": "snjVOBWJkd9L",
        "outputId": "ed70877c-9eb2-4978-cd39-5488a1033481"
      },
      "execution_count": null,
      "outputs": [
        {
          "output_type": "execute_result",
          "data": {
            "text/plain": [
              "['Mumbai is the financial capital of India.',\n",
              " 'It is known for Bollywood and its street food.',\n",
              " 'I love going there']"
            ]
          },
          "metadata": {},
          "execution_count": 22
        }
      ]
    },
    {
      "cell_type": "markdown",
      "source": [
        "## Word TOKENIZATION"
      ],
      "metadata": {
        "id": "soXvtNk5kyKJ"
      }
    },
    {
      "cell_type": "code",
      "source": [
        "words1 = word_tokenize(text1)\n",
        "words2 = word_tokenize(text2)"
      ],
      "metadata": {
        "id": "pEYJ0KE9kvOZ"
      },
      "execution_count": null,
      "outputs": []
    },
    {
      "cell_type": "code",
      "source": [
        "words1"
      ],
      "metadata": {
        "colab": {
          "base_uri": "https://localhost:8080/"
        },
        "id": "wV1a7Wa4k0C9",
        "outputId": "6de7cf57-6b60-4c86-9738-f6ff6481dca4"
      },
      "execution_count": null,
      "outputs": [
        {
          "output_type": "execute_result",
          "data": {
            "text/plain": [
              "['Mumbai',\n",
              " 'is',\n",
              " 'the',\n",
              " 'financial',\n",
              " 'capital',\n",
              " 'of',\n",
              " 'India',\n",
              " '.',\n",
              " 'It',\n",
              " 'is',\n",
              " 'known',\n",
              " 'for',\n",
              " 'Bollywood',\n",
              " 'and',\n",
              " 'its',\n",
              " 'street',\n",
              " 'food',\n",
              " '.',\n",
              " 'I',\n",
              " 'love',\n",
              " 'going',\n",
              " 'there']"
            ]
          },
          "metadata": {},
          "execution_count": 24
        }
      ]
    },
    {
      "cell_type": "markdown",
      "source": [
        "## STOPWORD REMOVAL"
      ],
      "metadata": {
        "id": "Mrz_5B1uk3Wv"
      }
    },
    {
      "cell_type": "code",
      "source": [
        "stop_words = set(stopwords.words('english'))"
      ],
      "metadata": {
        "id": "hnUIcmF0k6A1"
      },
      "execution_count": null,
      "outputs": []
    },
    {
      "cell_type": "code",
      "source": [
        "len(stop_words)"
      ],
      "metadata": {
        "colab": {
          "base_uri": "https://localhost:8080/"
        },
        "id": "PLR_oeRRk9hd",
        "outputId": "9d689394-ab7b-46b4-9b72-570089ecb0fc"
      },
      "execution_count": null,
      "outputs": [
        {
          "output_type": "execute_result",
          "data": {
            "text/plain": [
              "198"
            ]
          },
          "metadata": {},
          "execution_count": 26
        }
      ]
    },
    {
      "cell_type": "code",
      "source": [
        "filtered_words1 = []\n",
        "for word in words1:\n",
        "    if word.lower() not in stop_words:\n",
        "        filtered_words1.append(word)"
      ],
      "metadata": {
        "id": "j2L4QY7ElD3p"
      },
      "execution_count": null,
      "outputs": []
    },
    {
      "cell_type": "code",
      "source": [
        "filtered_words1"
      ],
      "metadata": {
        "colab": {
          "base_uri": "https://localhost:8080/"
        },
        "id": "srghmVPNlHBd",
        "outputId": "e5eb8ce5-47da-4ab4-be4b-c957c43adfe4"
      },
      "execution_count": null,
      "outputs": [
        {
          "output_type": "execute_result",
          "data": {
            "text/plain": [
              "['Mumbai',\n",
              " 'financial',\n",
              " 'capital',\n",
              " 'India',\n",
              " '.',\n",
              " 'known',\n",
              " 'Bollywood',\n",
              " 'street',\n",
              " 'food',\n",
              " '.',\n",
              " 'love',\n",
              " 'going']"
            ]
          },
          "metadata": {},
          "execution_count": 28
        }
      ]
    },
    {
      "cell_type": "markdown",
      "source": [
        "## STEMMING"
      ],
      "metadata": {
        "id": "_va51lGxlNCd"
      }
    },
    {
      "cell_type": "code",
      "source": [
        "stemmer = PorterStemmer()"
      ],
      "metadata": {
        "id": "Pw6FE-e-lJY2"
      },
      "execution_count": null,
      "outputs": []
    },
    {
      "cell_type": "code",
      "source": [
        "stemmed_words1 = []\n",
        "for word in filtered_words1:\n",
        "    stemmed_words1.append(stemmer.stem(word))"
      ],
      "metadata": {
        "id": "F23TbkP-lQa1"
      },
      "execution_count": null,
      "outputs": []
    },
    {
      "cell_type": "code",
      "source": [
        "stemmed_words1"
      ],
      "metadata": {
        "colab": {
          "base_uri": "https://localhost:8080/"
        },
        "id": "niwYTWoHlTe4",
        "outputId": "adfab027-b9c5-45cb-b435-d4b8d70bd0fb"
      },
      "execution_count": null,
      "outputs": [
        {
          "output_type": "execute_result",
          "data": {
            "text/plain": [
              "['mumbai',\n",
              " 'financi',\n",
              " 'capit',\n",
              " 'india',\n",
              " '.',\n",
              " 'known',\n",
              " 'bollywood',\n",
              " 'street',\n",
              " 'food',\n",
              " '.',\n",
              " 'love',\n",
              " 'go']"
            ]
          },
          "metadata": {},
          "execution_count": 31
        }
      ]
    },
    {
      "cell_type": "markdown",
      "source": [
        "## LEMMATIZATION"
      ],
      "metadata": {
        "id": "0dxnsN4kleHM"
      }
    },
    {
      "cell_type": "code",
      "source": [
        "lemmatizer = WordNetLemmatizer()"
      ],
      "metadata": {
        "id": "-X76lHrUldR2"
      },
      "execution_count": null,
      "outputs": []
    },
    {
      "cell_type": "code",
      "source": [
        "lemmatized_words1 = []\n",
        "for word in filtered_words1:\n",
        "    lemmatized_words1.append(lemmatizer.lemmatize(word))"
      ],
      "metadata": {
        "id": "laZVxIrullJ0"
      },
      "execution_count": null,
      "outputs": []
    },
    {
      "cell_type": "code",
      "source": [
        "lemmatized_words1"
      ],
      "metadata": {
        "id": "uxiIPsV1ll5L",
        "outputId": "28550fdd-99e1-4eda-ae78-a90c22cb827c",
        "colab": {
          "base_uri": "https://localhost:8080/"
        }
      },
      "execution_count": null,
      "outputs": [
        {
          "output_type": "execute_result",
          "data": {
            "text/plain": [
              "['Mumbai',\n",
              " 'financial',\n",
              " 'capital',\n",
              " 'India',\n",
              " '.',\n",
              " 'known',\n",
              " 'Bollywood',\n",
              " 'street',\n",
              " 'food',\n",
              " '.',\n",
              " 'love',\n",
              " 'going']"
            ]
          },
          "metadata": {},
          "execution_count": 34
        }
      ]
    }
  ]
}