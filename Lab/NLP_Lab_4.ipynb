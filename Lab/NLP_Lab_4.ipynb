{
  "nbformat": 4,
  "nbformat_minor": 0,
  "metadata": {
    "colab": {
      "provenance": []
    },
    "kernelspec": {
      "name": "python3",
      "display_name": "Python 3"
    },
    "language_info": {
      "name": "python"
    }
  },
  "cells": [
    {
      "cell_type": "code",
      "source": [
        "import random, requests\n",
        "import string,re"
      ],
      "metadata": {
        "id": "-0a7RVA_Foen"
      },
      "execution_count": 1,
      "outputs": []
    },
    {
      "cell_type": "code",
      "source": [
        "import nltk\n",
        "from nltk.util import ngrams\n",
        "from collections import Counter"
      ],
      "metadata": {
        "id": "fUoIkfERF8OA"
      },
      "execution_count": 2,
      "outputs": []
    },
    {
      "cell_type": "code",
      "source": [
        "nltk.download('punkt_tab')"
      ],
      "metadata": {
        "colab": {
          "base_uri": "https://localhost:8080/"
        },
        "id": "zGXtiwJ_Yd_z",
        "outputId": "472940ed-1f87-4c03-fa44-b5dc4eadb7b8"
      },
      "execution_count": 3,
      "outputs": [
        {
          "output_type": "stream",
          "name": "stderr",
          "text": [
            "[nltk_data] Downloading package punkt_tab to /root/nltk_data...\n",
            "[nltk_data]   Unzipping tokenizers/punkt_tab.zip.\n"
          ]
        },
        {
          "output_type": "execute_result",
          "data": {
            "text/plain": [
              "True"
            ]
          },
          "metadata": {},
          "execution_count": 3
        }
      ]
    },
    {
      "cell_type": "code",
      "source": [
        "sample_data = \"This is an example corpus to find ngrams from text\"\n",
        "words = sample_data.split()\n",
        "unigrams_eg = words\n",
        "bigrams_eg = list(ngrams(words, 2))\n",
        "trigrams_eg = list(ngrams(words, 3))"
      ],
      "metadata": {
        "id": "6gLfil8AZTXN"
      },
      "execution_count": 5,
      "outputs": []
    },
    {
      "cell_type": "code",
      "source": [
        "print(\"Unigrams:\")\n",
        "for unigram in unigrams_eg:\n",
        "    print(unigram)\n",
        "\n",
        "print(\"\\nBigrams:\")\n",
        "for bigram in bigrams_eg:\n",
        "    print(bigram)\n",
        "\n",
        "print(\"\\nTrigrams:\")\n",
        "for trigram in bigrams_eg:\n",
        "    print(trigram)"
      ],
      "metadata": {
        "colab": {
          "base_uri": "https://localhost:8080/"
        },
        "id": "mUyeckwAZWhX",
        "outputId": "4b9a0b0e-c766-4851-add1-759762299400"
      },
      "execution_count": 6,
      "outputs": [
        {
          "output_type": "stream",
          "name": "stdout",
          "text": [
            "Unigrams:\n",
            "This\n",
            "is\n",
            "an\n",
            "example\n",
            "corpus\n",
            "to\n",
            "find\n",
            "ngrams\n",
            "from\n",
            "text\n",
            "\n",
            "Bigrams:\n",
            "('This', 'is')\n",
            "('is', 'an')\n",
            "('an', 'example')\n",
            "('example', 'corpus')\n",
            "('corpus', 'to')\n",
            "('to', 'find')\n",
            "('find', 'ngrams')\n",
            "('ngrams', 'from')\n",
            "('from', 'text')\n",
            "\n",
            "Trigrams:\n",
            "('This', 'is')\n",
            "('is', 'an')\n",
            "('an', 'example')\n",
            "('example', 'corpus')\n",
            "('corpus', 'to')\n",
            "('to', 'find')\n",
            "('find', 'ngrams')\n",
            "('ngrams', 'from')\n",
            "('from', 'text')\n"
          ]
        }
      ]
    },
    {
      "cell_type": "markdown",
      "source": [
        "## Corpus of data"
      ],
      "metadata": {
        "id": "wWAGw4P7ZbiQ"
      }
    },
    {
      "cell_type": "code",
      "source": [
        "url = \"https://www.gutenberg.org/files/1342/1342-0.txt\"\n",
        "response = requests.get(url)\n",
        "text = response.text"
      ],
      "metadata": {
        "id": "stGgqYlbF__s"
      },
      "execution_count": 7,
      "outputs": []
    },
    {
      "cell_type": "code",
      "source": [
        "main_text = text.lower()\n",
        "tokens = nltk.word_tokenize(main_text)"
      ],
      "metadata": {
        "id": "NgjwnmCIYY7B"
      },
      "execution_count": 8,
      "outputs": []
    },
    {
      "cell_type": "code",
      "source": [
        "cleaned_tokens = []\n",
        "for token in tokens:\n",
        "    cleaned_token = re.sub(r'[^\\w\\s]', '', token)\n",
        "    if cleaned_token and not cleaned_token.isdigit():\n",
        "        cleaned_tokens.append(cleaned_token)"
      ],
      "metadata": {
        "id": "quvrNwZeYiTK"
      },
      "execution_count": 9,
      "outputs": []
    },
    {
      "cell_type": "code",
      "source": [
        "unigrams = cleaned_tokens\n",
        "bigrams = list(ngrams(cleaned_tokens, 2))\n",
        "trigrams = list(ngrams(cleaned_tokens, 3))"
      ],
      "metadata": {
        "id": "HCYn6OZIYjI-"
      },
      "execution_count": 10,
      "outputs": []
    },
    {
      "cell_type": "code",
      "source": [
        "unigram_freq = Counter(unigrams)\n",
        "bigram_freq = Counter(bigrams)\n",
        "trigram_freq = Counter(trigrams)"
      ],
      "metadata": {
        "id": "c7AfW7cBYoC1"
      },
      "execution_count": 11,
      "outputs": []
    },
    {
      "cell_type": "code",
      "source": [
        "top_unigrams = unigram_freq.most_common(20)\n",
        "top_bigrams = bigram_freq.most_common(20)\n",
        "top_trigrams = trigram_freq.most_common(20)"
      ],
      "metadata": {
        "id": "FDzdX_5LYpvU"
      },
      "execution_count": 12,
      "outputs": []
    },
    {
      "cell_type": "code",
      "source": [
        "print(f\"Total tokens: {len(cleaned_tokens)}\")\n",
        "print(f\"Unique unigrams: {len(unigram_freq)}\")\n",
        "print(f\"Unique bigrams: {len(bigram_freq)}\")\n",
        "print(f\"Unique trigrams: {len(trigram_freq)}\")"
      ],
      "metadata": {
        "colab": {
          "base_uri": "https://localhost:8080/"
        },
        "id": "reNTMuFuYua2",
        "outputId": "ca509f9c-2bf4-48d9-b689-3d2dc7baf34b"
      },
      "execution_count": 13,
      "outputs": [
        {
          "output_type": "stream",
          "name": "stdout",
          "text": [
            "Total tokens: 128323\n",
            "Unique unigrams: 7068\n",
            "Unique bigrams: 57344\n",
            "Unique trigrams: 107668\n"
          ]
        }
      ]
    },
    {
      "cell_type": "code",
      "source": [
        "print(\"\\nTop 20 Unigrams:\")\n",
        "for item, count in top_unigrams:\n",
        "    print(f\"{item}: {count}\")"
      ],
      "metadata": {
        "colab": {
          "base_uri": "https://localhost:8080/"
        },
        "id": "JHHWR3_mYxLN",
        "outputId": "e4a8f39d-d489-4931-9b7a-0fbf300e208c"
      },
      "execution_count": 14,
      "outputs": [
        {
          "output_type": "stream",
          "name": "stdout",
          "text": [
            "\n",
            "Top 20 Unigrams:\n",
            "the: 4656\n",
            "to: 4298\n",
            "of: 3841\n",
            "and: 3751\n",
            "her: 2260\n",
            "i: 2098\n",
            "a: 2033\n",
            "in: 1977\n",
            "was: 1871\n",
            "she: 1732\n",
            "not: 1606\n",
            "that: 1605\n",
            "it: 1587\n",
            "he: 1347\n",
            "you: 1342\n",
            "his: 1289\n",
            "be: 1263\n",
            "as: 1228\n",
            "had: 1181\n",
            "with: 1102\n"
          ]
        }
      ]
    },
    {
      "cell_type": "code",
      "source": [
        "print(\"\\nTop 20 Bigrams:\")\n",
        "for item, count in top_bigrams:\n",
        "    print(f\"{item}: {count}\")"
      ],
      "metadata": {
        "colab": {
          "base_uri": "https://localhost:8080/"
        },
        "id": "JvSIkSYYYyyT",
        "outputId": "789fcca2-8e17-4cf5-d212-f4bceeb34702"
      },
      "execution_count": 15,
      "outputs": [
        {
          "output_type": "stream",
          "name": "stdout",
          "text": [
            "\n",
            "Top 20 Bigrams:\n",
            "('of', 'the'): 509\n",
            "('to', 'be'): 446\n",
            "('in', 'the'): 419\n",
            "('i', 'am'): 311\n",
            "('mr', 'darcy'): 276\n",
            "('of', 'her'): 274\n",
            "('to', 'the'): 264\n",
            "('it', 'was'): 255\n",
            "('of', 'his'): 241\n",
            "('she', 'was'): 210\n",
            "('it', 'is'): 207\n",
            "('she', 'had'): 204\n",
            "('had', 'been'): 203\n",
            "('i', 'have'): 188\n",
            "('to', 'her'): 180\n",
            "('that', 'he'): 179\n",
            "('could', 'not'): 172\n",
            "('and', 'the'): 169\n",
            "('for', 'the'): 165\n",
            "('he', 'had'): 163\n"
          ]
        }
      ]
    },
    {
      "cell_type": "code",
      "source": [
        "print(\"\\nTop 20 Trigrams:\")\n",
        "for item, count in top_trigrams:\n",
        "    print(f\"{item}: {count}\")"
      ],
      "metadata": {
        "colab": {
          "base_uri": "https://localhost:8080/"
        },
        "id": "HCu19VJXY2lp",
        "outputId": "d76fc5de-36bc-4a5b-c2be-73b942d6e78e"
      },
      "execution_count": 16,
      "outputs": [
        {
          "output_type": "stream",
          "name": "stdout",
          "text": [
            "\n",
            "Top 20 Trigrams:\n",
            "('i', 'do', 'not'): 65\n",
            "('i', 'am', 'sure'): 64\n",
            "('as', 'soon', 'as'): 56\n",
            "('she', 'could', 'not'): 53\n",
            "('i', 'can', 'not'): 51\n",
            "('that', 'he', 'had'): 37\n",
            "('in', 'the', 'world'): 35\n",
            "('it', 'would', 'be'): 34\n",
            "('_copyright', 'by', 'george'): 34\n",
            "('by', 'george', 'allen_'): 34\n",
            "('i', 'am', 'not'): 32\n",
            "('i', 'dare', 'say'): 30\n",
            "('it', 'was', 'not'): 30\n",
            "('that', 'he', 'was'): 30\n",
            "('mr', 'darcy', 's'): 30\n",
            "('as', 'well', 'as'): 29\n",
            "('could', 'not', 'be'): 29\n",
            "('would', 'have', 'been'): 28\n",
            "('that', 'it', 'was'): 28\n",
            "('of', 'mr', 'darcy'): 28\n"
          ]
        }
      ]
    }
  ]
}