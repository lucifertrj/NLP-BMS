{
  "nbformat": 4,
  "nbformat_minor": 0,
  "metadata": {
    "colab": {
      "provenance": []
    },
    "kernelspec": {
      "name": "python3",
      "display_name": "Python 3"
    },
    "language_info": {
      "name": "python"
    }
  },
  "cells": [
    {
      "cell_type": "code",
      "source": [
        "import math\n",
        "from collections import Counter\n",
        "import pandas as pd\n",
        "from nltk.tokenize import word_tokenize"
      ],
      "metadata": {
        "id": "4hcgFwWrbHsC"
      },
      "execution_count": 1,
      "outputs": []
    },
    {
      "cell_type": "code",
      "source": [
        "import nltk\n",
        "nltk.download('punkt')\n",
        "nltk.download('punkt_tab')"
      ],
      "metadata": {
        "colab": {
          "base_uri": "https://localhost:8080/"
        },
        "id": "aubfQGp4bFvD",
        "outputId": "0d0986cf-b63f-4754-f97c-2df20a5206ac"
      },
      "execution_count": 2,
      "outputs": [
        {
          "output_type": "stream",
          "name": "stderr",
          "text": [
            "[nltk_data] Downloading package punkt to /root/nltk_data...\n",
            "[nltk_data]   Unzipping tokenizers/punkt.zip.\n",
            "[nltk_data] Downloading package punkt_tab to /root/nltk_data...\n",
            "[nltk_data]   Unzipping tokenizers/punkt_tab.zip.\n"
          ]
        },
        {
          "output_type": "execute_result",
          "data": {
            "text/plain": [
              "True"
            ]
          },
          "metadata": {},
          "execution_count": 2
        }
      ]
    },
    {
      "cell_type": "code",
      "source": [
        "documents = [\n",
        "    \"This movie was fantastic and I loved every minute of it\",\n",
        "    \"The acting was terrible and the plot made no sense\",\n",
        "    \"Great special effects but the story was predictable\",\n",
        "    \"I fell asleep during this boring movie\",\n",
        "    \"The soundtrack was amazing and the cinematography stunning\"\n",
        "]\n",
        "\n",
        "\n",
        "tokenized_docs = [word_tokenize(doc.lower()) for doc in documents]"
      ],
      "metadata": {
        "id": "GgWqQhUlbNSk"
      },
      "execution_count": 3,
      "outputs": []
    },
    {
      "cell_type": "code",
      "source": [
        "# Calculate Term Frequency (TF)\n",
        "term_freq = []\n",
        "for doc in tokenized_docs:\n",
        "    total_words = len(doc)\n",
        "    word_counts = Counter(doc)\n",
        "    tf = {word: count / total_words for word, count in word_counts.items()}\n",
        "    term_freq.append(tf)"
      ],
      "metadata": {
        "id": "KI0KiGpibRYN"
      },
      "execution_count": 4,
      "outputs": []
    },
    {
      "cell_type": "code",
      "source": [
        "term_freq"
      ],
      "metadata": {
        "colab": {
          "base_uri": "https://localhost:8080/"
        },
        "id": "Cke8pAb9baD4",
        "outputId": "911d221c-723e-4ec2-c84d-989c89c4e9fd"
      },
      "execution_count": 5,
      "outputs": [
        {
          "output_type": "execute_result",
          "data": {
            "text/plain": [
              "[{'this': 0.09090909090909091,\n",
              "  'movie': 0.09090909090909091,\n",
              "  'was': 0.09090909090909091,\n",
              "  'fantastic': 0.09090909090909091,\n",
              "  'and': 0.09090909090909091,\n",
              "  'i': 0.09090909090909091,\n",
              "  'loved': 0.09090909090909091,\n",
              "  'every': 0.09090909090909091,\n",
              "  'minute': 0.09090909090909091,\n",
              "  'of': 0.09090909090909091,\n",
              "  'it': 0.09090909090909091},\n",
              " {'the': 0.2,\n",
              "  'acting': 0.1,\n",
              "  'was': 0.1,\n",
              "  'terrible': 0.1,\n",
              "  'and': 0.1,\n",
              "  'plot': 0.1,\n",
              "  'made': 0.1,\n",
              "  'no': 0.1,\n",
              "  'sense': 0.1},\n",
              " {'great': 0.125,\n",
              "  'special': 0.125,\n",
              "  'effects': 0.125,\n",
              "  'but': 0.125,\n",
              "  'the': 0.125,\n",
              "  'story': 0.125,\n",
              "  'was': 0.125,\n",
              "  'predictable': 0.125},\n",
              " {'i': 0.14285714285714285,\n",
              "  'fell': 0.14285714285714285,\n",
              "  'asleep': 0.14285714285714285,\n",
              "  'during': 0.14285714285714285,\n",
              "  'this': 0.14285714285714285,\n",
              "  'boring': 0.14285714285714285,\n",
              "  'movie': 0.14285714285714285},\n",
              " {'the': 0.25,\n",
              "  'soundtrack': 0.125,\n",
              "  'was': 0.125,\n",
              "  'amazing': 0.125,\n",
              "  'and': 0.125,\n",
              "  'cinematography': 0.125,\n",
              "  'stunning': 0.125}]"
            ]
          },
          "metadata": {},
          "execution_count": 5
        }
      ]
    },
    {
      "cell_type": "code",
      "source": [
        "# Print Term Frequency\n",
        "print(\"Term Frequency (TF):\")\n",
        "for i, tf in enumerate(term_freq):\n",
        "    print(f\"Document {i+1}: {tf}\")"
      ],
      "metadata": {
        "colab": {
          "base_uri": "https://localhost:8080/"
        },
        "id": "bG2d_Z55bT7T",
        "outputId": "15b99367-7202-48c5-dd37-f78f88e0f98e"
      },
      "execution_count": 6,
      "outputs": [
        {
          "output_type": "stream",
          "name": "stdout",
          "text": [
            "Term Frequency (TF):\n",
            "Document 1: {'this': 0.09090909090909091, 'movie': 0.09090909090909091, 'was': 0.09090909090909091, 'fantastic': 0.09090909090909091, 'and': 0.09090909090909091, 'i': 0.09090909090909091, 'loved': 0.09090909090909091, 'every': 0.09090909090909091, 'minute': 0.09090909090909091, 'of': 0.09090909090909091, 'it': 0.09090909090909091}\n",
            "Document 2: {'the': 0.2, 'acting': 0.1, 'was': 0.1, 'terrible': 0.1, 'and': 0.1, 'plot': 0.1, 'made': 0.1, 'no': 0.1, 'sense': 0.1}\n",
            "Document 3: {'great': 0.125, 'special': 0.125, 'effects': 0.125, 'but': 0.125, 'the': 0.125, 'story': 0.125, 'was': 0.125, 'predictable': 0.125}\n",
            "Document 4: {'i': 0.14285714285714285, 'fell': 0.14285714285714285, 'asleep': 0.14285714285714285, 'during': 0.14285714285714285, 'this': 0.14285714285714285, 'boring': 0.14285714285714285, 'movie': 0.14285714285714285}\n",
            "Document 5: {'the': 0.25, 'soundtrack': 0.125, 'was': 0.125, 'amazing': 0.125, 'and': 0.125, 'cinematography': 0.125, 'stunning': 0.125}\n"
          ]
        }
      ]
    },
    {
      "cell_type": "code",
      "source": [
        "# Calculate Document Frequency (DF)\n",
        "document_freq = {}\n",
        "total_docs = len(tokenized_docs)"
      ],
      "metadata": {
        "id": "lwKv_jDBbdZg"
      },
      "execution_count": 7,
      "outputs": []
    },
    {
      "cell_type": "code",
      "source": [
        "for doc in tokenized_docs:\n",
        "    unique_words = set(doc)\n",
        "    for word in unique_words:\n",
        "        if word in document_freq:\n",
        "            document_freq[word] += 1\n",
        "        else:\n",
        "            document_freq[word] = 1"
      ],
      "metadata": {
        "id": "Q7qykV09b5hj"
      },
      "execution_count": 8,
      "outputs": []
    },
    {
      "cell_type": "code",
      "source": [
        "total_docs"
      ],
      "metadata": {
        "colab": {
          "base_uri": "https://localhost:8080/"
        },
        "id": "XboSdN2nb4IT",
        "outputId": "609e5ac9-1f95-4cda-809b-f38c3ad1d8bb"
      },
      "execution_count": 9,
      "outputs": [
        {
          "output_type": "execute_result",
          "data": {
            "text/plain": [
              "5"
            ]
          },
          "metadata": {},
          "execution_count": 9
        }
      ]
    },
    {
      "cell_type": "code",
      "source": [
        "# Calculate Inverse Document Frequency (IDF)\n",
        "idf = {word: math.log(total_docs / freq) for word, freq in document_freq.items()}"
      ],
      "metadata": {
        "id": "QtA0f7sCbfjK"
      },
      "execution_count": 10,
      "outputs": []
    },
    {
      "cell_type": "code",
      "source": [
        "# Print Document Frequency and IDF\n",
        "print(\"\\nDocument Frequency (DF):\")\n",
        "print(document_freq)\n",
        "print(\"\\nInverse Document Frequency (IDF):\")\n",
        "print(idf)"
      ],
      "metadata": {
        "colab": {
          "base_uri": "https://localhost:8080/"
        },
        "id": "LIXbFHV2bg3Z",
        "outputId": "caec641a-e252-4403-a980-e1b6dc168ba0"
      },
      "execution_count": 11,
      "outputs": [
        {
          "output_type": "stream",
          "name": "stdout",
          "text": [
            "\n",
            "Document Frequency (DF):\n",
            "{'it': 1, 'loved': 1, 'minute': 1, 'of': 1, 'was': 4, 'every': 1, 'movie': 2, 'and': 3, 'i': 2, 'this': 2, 'fantastic': 1, 'plot': 1, 'no': 1, 'sense': 1, 'terrible': 1, 'acting': 1, 'made': 1, 'the': 3, 'great': 1, 'special': 1, 'effects': 1, 'but': 1, 'predictable': 1, 'story': 1, 'boring': 1, 'fell': 1, 'asleep': 1, 'during': 1, 'stunning': 1, 'soundtrack': 1, 'amazing': 1, 'cinematography': 1}\n",
            "\n",
            "Inverse Document Frequency (IDF):\n",
            "{'it': 1.6094379124341003, 'loved': 1.6094379124341003, 'minute': 1.6094379124341003, 'of': 1.6094379124341003, 'was': 0.22314355131420976, 'every': 1.6094379124341003, 'movie': 0.9162907318741551, 'and': 0.5108256237659907, 'i': 0.9162907318741551, 'this': 0.9162907318741551, 'fantastic': 1.6094379124341003, 'plot': 1.6094379124341003, 'no': 1.6094379124341003, 'sense': 1.6094379124341003, 'terrible': 1.6094379124341003, 'acting': 1.6094379124341003, 'made': 1.6094379124341003, 'the': 0.5108256237659907, 'great': 1.6094379124341003, 'special': 1.6094379124341003, 'effects': 1.6094379124341003, 'but': 1.6094379124341003, 'predictable': 1.6094379124341003, 'story': 1.6094379124341003, 'boring': 1.6094379124341003, 'fell': 1.6094379124341003, 'asleep': 1.6094379124341003, 'during': 1.6094379124341003, 'stunning': 1.6094379124341003, 'soundtrack': 1.6094379124341003, 'amazing': 1.6094379124341003, 'cinematography': 1.6094379124341003}\n"
          ]
        }
      ]
    },
    {
      "cell_type": "code",
      "source": [
        "# Calculate TF-IDF\n",
        "tfidf_docs = []\n",
        "for i, tf in enumerate(term_freq):\n",
        "    print(tf)\n",
        "    tfidf = {word: tf_val * idf[word] for word, tf_val in tf.items()}\n",
        "    tfidf_docs.append(tfidf)"
      ],
      "metadata": {
        "colab": {
          "base_uri": "https://localhost:8080/"
        },
        "id": "bn5ZuNXebyl5",
        "outputId": "349c991c-4f1f-4db8-ff99-eab7a644d51e"
      },
      "execution_count": 12,
      "outputs": [
        {
          "output_type": "stream",
          "name": "stdout",
          "text": [
            "{'this': 0.09090909090909091, 'movie': 0.09090909090909091, 'was': 0.09090909090909091, 'fantastic': 0.09090909090909091, 'and': 0.09090909090909091, 'i': 0.09090909090909091, 'loved': 0.09090909090909091, 'every': 0.09090909090909091, 'minute': 0.09090909090909091, 'of': 0.09090909090909091, 'it': 0.09090909090909091}\n",
            "{'the': 0.2, 'acting': 0.1, 'was': 0.1, 'terrible': 0.1, 'and': 0.1, 'plot': 0.1, 'made': 0.1, 'no': 0.1, 'sense': 0.1}\n",
            "{'great': 0.125, 'special': 0.125, 'effects': 0.125, 'but': 0.125, 'the': 0.125, 'story': 0.125, 'was': 0.125, 'predictable': 0.125}\n",
            "{'i': 0.14285714285714285, 'fell': 0.14285714285714285, 'asleep': 0.14285714285714285, 'during': 0.14285714285714285, 'this': 0.14285714285714285, 'boring': 0.14285714285714285, 'movie': 0.14285714285714285}\n",
            "{'the': 0.25, 'soundtrack': 0.125, 'was': 0.125, 'amazing': 0.125, 'and': 0.125, 'cinematography': 0.125, 'stunning': 0.125}\n"
          ]
        }
      ]
    },
    {
      "cell_type": "code",
      "source": [
        "# Print TF-IDF\n",
        "print(\"\\nTF-IDF Scores:\")\n",
        "for i, tfidf in enumerate(tfidf_docs):\n",
        "    print(f\"Document {i+1}: {tfidf}\")"
      ],
      "metadata": {
        "colab": {
          "base_uri": "https://localhost:8080/"
        },
        "id": "JTiBYzkFcfTR",
        "outputId": "159f0938-b0c7-4bc5-ed4e-d5d0942d19fa"
      },
      "execution_count": 13,
      "outputs": [
        {
          "output_type": "stream",
          "name": "stdout",
          "text": [
            "\n",
            "TF-IDF Scores:\n",
            "Document 1: {'this': 0.08329915744310501, 'movie': 0.08329915744310501, 'was': 0.020285777392200888, 'fantastic': 0.14631253749400913, 'and': 0.04643869306963552, 'i': 0.08329915744310501, 'loved': 0.14631253749400913, 'every': 0.14631253749400913, 'minute': 0.14631253749400913, 'of': 0.14631253749400913, 'it': 0.14631253749400913}\n",
            "Document 2: {'the': 0.10216512475319815, 'acting': 0.16094379124341004, 'was': 0.02231435513142098, 'terrible': 0.16094379124341004, 'and': 0.051082562376599076, 'plot': 0.16094379124341004, 'made': 0.16094379124341004, 'no': 0.16094379124341004, 'sense': 0.16094379124341004}\n",
            "Document 3: {'great': 0.20117973905426254, 'special': 0.20117973905426254, 'effects': 0.20117973905426254, 'but': 0.20117973905426254, 'the': 0.06385320297074884, 'story': 0.20117973905426254, 'was': 0.02789294391427622, 'predictable': 0.20117973905426254}\n",
            "Document 4: {'i': 0.13089867598202215, 'fell': 0.22991970177630003, 'asleep': 0.22991970177630003, 'during': 0.22991970177630003, 'this': 0.13089867598202215, 'boring': 0.22991970177630003, 'movie': 0.13089867598202215}\n",
            "Document 5: {'the': 0.12770640594149768, 'soundtrack': 0.20117973905426254, 'was': 0.02789294391427622, 'amazing': 0.20117973905426254, 'and': 0.06385320297074884, 'cinematography': 0.20117973905426254, 'stunning': 0.20117973905426254}\n"
          ]
        }
      ]
    },
    {
      "cell_type": "code",
      "source": [
        "from sklearn.feature_extraction.text import TfidfVectorizer\n",
        "\n",
        "vectorizer = TfidfVectorizer()\n",
        "X = vectorizer.fit_transform(documents)\n",
        "feature_names = vectorizer.get_feature_names_out()"
      ],
      "metadata": {
        "id": "xF9IMpdJcwDC"
      },
      "execution_count": 14,
      "outputs": []
    },
    {
      "cell_type": "code",
      "source": [
        "feature_names"
      ],
      "metadata": {
        "colab": {
          "base_uri": "https://localhost:8080/"
        },
        "id": "QPYJuMDIcyyt",
        "outputId": "833cd0a1-e03b-425f-a228-8e9645822cc4"
      },
      "execution_count": 15,
      "outputs": [
        {
          "output_type": "execute_result",
          "data": {
            "text/plain": [
              "array(['acting', 'amazing', 'and', 'asleep', 'boring', 'but',\n",
              "       'cinematography', 'during', 'effects', 'every', 'fantastic',\n",
              "       'fell', 'great', 'it', 'loved', 'made', 'minute', 'movie', 'no',\n",
              "       'of', 'plot', 'predictable', 'sense', 'soundtrack', 'special',\n",
              "       'story', 'stunning', 'terrible', 'the', 'this', 'was'],\n",
              "      dtype=object)"
            ]
          },
          "metadata": {},
          "execution_count": 15
        }
      ]
    },
    {
      "cell_type": "code",
      "source": [
        "df_sklearn = pd.DataFrame(X.toarray(), columns=feature_names)\n",
        "df_sklearn.index = [f\"Doc {i+1}\" for i in range(len(documents))]\n",
        "\n",
        "for i in range(len(documents)):\n",
        "    doc_name = f\"Doc {i+1}\"\n",
        "    doc_features = df_sklearn.loc[doc_name]\n",
        "\n",
        "    present_words = doc_features[doc_features > 0]\n",
        "\n",
        "    print(f\"\\n{doc_name} - Words present with TF-IDF scores:\")\n",
        "    print(present_words.sort_values(ascending=False))"
      ],
      "metadata": {
        "colab": {
          "base_uri": "https://localhost:8080/"
        },
        "id": "hCpPNaZJc1HR",
        "outputId": "5eb482be-8041-4903-846e-dc513b8a86e6"
      },
      "execution_count": 16,
      "outputs": [
        {
          "output_type": "stream",
          "name": "stdout",
          "text": [
            "\n",
            "Doc 1 - Words present with TF-IDF scores:\n",
            "every        0.352066\n",
            "fantastic    0.352066\n",
            "of           0.352066\n",
            "it           0.352066\n",
            "loved        0.352066\n",
            "minute       0.352066\n",
            "this         0.284045\n",
            "movie        0.284045\n",
            "and          0.235783\n",
            "was          0.198348\n",
            "Name: Doc 1, dtype: float64\n",
            "\n",
            "Doc 2 - Words present with TF-IDF scores:\n",
            "the         0.457806\n",
            "acting      0.341794\n",
            "made        0.341794\n",
            "plot        0.341794\n",
            "no          0.341794\n",
            "terrible    0.341794\n",
            "sense       0.341794\n",
            "and         0.228903\n",
            "was         0.192561\n",
            "Name: Doc 2, dtype: float64\n",
            "\n",
            "Doc 3 - Words present with TF-IDF scores:\n",
            "but            0.384447\n",
            "effects        0.384447\n",
            "great          0.384447\n",
            "predictable    0.384447\n",
            "special        0.384447\n",
            "story          0.384447\n",
            "the            0.257469\n",
            "was            0.216591\n",
            "Name: Doc 3, dtype: float64\n",
            "\n",
            "Doc 4 - Words present with TF-IDF scores:\n",
            "asleep    0.434297\n",
            "boring    0.434297\n",
            "during    0.434297\n",
            "fell      0.434297\n",
            "movie     0.350388\n",
            "this      0.350388\n",
            "Name: Doc 4, dtype: float64\n",
            "\n",
            "Doc 5 - Words present with TF-IDF scores:\n",
            "the               0.522958\n",
            "cinematography    0.390435\n",
            "amazing           0.390435\n",
            "stunning          0.390435\n",
            "soundtrack        0.390435\n",
            "and               0.261479\n",
            "was               0.219964\n",
            "Name: Doc 5, dtype: float64\n"
          ]
        }
      ]
    }
  ]
}